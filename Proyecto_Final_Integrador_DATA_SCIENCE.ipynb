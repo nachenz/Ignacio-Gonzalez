{
  "nbformat": 4,
  "nbformat_minor": 0,
  "metadata": {
    "colab": {
      "provenance": [],
      "authorship_tag": "ABX9TyP5taCW+t+4wEfSqewunL5O",
      "include_colab_link": true
    },
    "kernelspec": {
      "name": "python3",
      "display_name": "Python 3"
    },
    "language_info": {
      "name": "python"
    }
  },
  "cells": [
    {
      "cell_type": "markdown",
      "metadata": {
        "id": "view-in-github",
        "colab_type": "text"
      },
      "source": [
        "<a href=\"https://colab.research.google.com/github/nachenz/Ignacio-Gonzalez/blob/main/Proyecto_Final_Integrador_DATA_SCIENCE.ipynb\" target=\"_parent\"><img src=\"https://colab.research.google.com/assets/colab-badge.svg\" alt=\"Open In Colab\"/></a>"
      ]
    },
    {
      "cell_type": "markdown",
      "source": [
        "# Proyecto Final Integrador DATA SCIENCE\n",
        "\n"
      ],
      "metadata": {
        "id": "ZsGPnlYanp_0"
      }
    },
    {
      "cell_type": "markdown",
      "source": [
        "## 1. Cargo los dataframes mediante API de Kaggle (ETL)\\:"
      ],
      "metadata": {
        "id": "W4ppphpnrNoq"
      }
    },
    {
      "cell_type": "code",
      "execution_count": null,
      "metadata": {
        "id": "PaLVkkZPdy3L"
      },
      "outputs": [],
      "source": [
        "from google.colab import files\n",
        "files.upload()"
      ]
    },
    {
      "cell_type": "markdown",
      "source": [
        "1.2 Cargo e importo las librerias y modelos que voy a usar a lo largo del proyecto"
      ],
      "metadata": {
        "id": "eeNzYoqFze9p"
      }
    },
    {
      "cell_type": "code",
      "source": [
        "import os\n",
        "import zipfile\n",
        "import pandas as pd\n",
        "import matplotlib.pyplot as plt\n",
        "import seaborn as sns\n",
        "from sklearn.ensemble import RandomForestRegressor\n",
        "from sklearn.preprocessing import StandardScaler\n",
        "from sklearn.model_selection import train_test_split\n",
        "from sklearn.metrics import mean_absolute_error, mean_squared_error, r2_score\n",
        "from sklearn.feature_extraction.text import TfidfVectorizer\n",
        "from sklearn.naive_bayes import MultinomialNB\n",
        "from sklearn.metrics import accuracy_score, classification_report\n",
        "import numpy as np\n",
        "import spacy\n",
        "import spacy\n",
        "from wordcloud import WordCloud\n",
        "from collections import Counter\n",
        "from sklearn.ensemble import RandomForestClassifier\n",
        "from sklearn.metrics.pairwise import cosine_similarity\n",
        "from sklearn.neighbors import NearestNeighbors\n",
        "from sklearn.preprocessing import LabelEncoder\n",
        "from sklearn.impute import SimpleImputer\n",
        "!pip install --upgrade spacy\n",
        "\n",
        "!python -m spacy download en_core_web_sm\n",
        "nlp = spacy.load(\"en_core_web_sm\")"
      ],
      "metadata": {
        "id": "yoPyU9xhzZM3"
      },
      "execution_count": null,
      "outputs": []
    },
    {
      "cell_type": "code",
      "source": [
        "\n",
        "os.makedirs(\"/root/.kaggle\", exist_ok=True)\n",
        "!mv kaggle.json /root/.kaggle/\n",
        "\n",
        "# Dar permisos adecuados\n",
        "!chmod 600 /root/.kaggle/kaggle.json\n",
        "!kaggle datasets download -d zynicide/wine-reviews\n"
      ],
      "metadata": {
        "id": "L5kkg950d1AM"
      },
      "execution_count": null,
      "outputs": []
    },
    {
      "cell_type": "code",
      "source": [
        "with zipfile.ZipFile(\"wine-reviews.zip\", \"r\") as zip_ref:\n",
        "    zip_ref.extractall(\"wines_data\")\n"
      ],
      "metadata": {
        "id": "1tTX5yLk0Hf0"
      },
      "execution_count": null,
      "outputs": []
    },
    {
      "cell_type": "markdown",
      "source": [
        "1.1 Defino variables para cada uno de los archivos .csv que componen el .zip linkeado anteriormente"
      ],
      "metadata": {
        "id": "cvgwh0Iqai9U"
      }
    },
    {
      "cell_type": "code",
      "source": [
        "df1 = pd.read_csv(\"wines_data/winemag-data-130k-v2.csv\")\n",
        "df2 = pd.read_csv(\"wines_data/winemag-data_first150k.csv\")\n"
      ],
      "metadata": {
        "id": "CRD0idAUd2lt"
      },
      "execution_count": null,
      "outputs": []
    },
    {
      "cell_type": "markdown",
      "source": [
        "# 2. Análisis exploratorio de datos (EDA)"
      ],
      "metadata": {
        "id": "GbH2JlO6a0qi"
      }
    },
    {
      "cell_type": "code",
      "source": [
        "df1.head()"
      ],
      "metadata": {
        "id": "b2wiyi4Ud5oF"
      },
      "execution_count": null,
      "outputs": []
    },
    {
      "cell_type": "markdown",
      "source": [
        "***Veo descripción de variables numericas del df1***"
      ],
      "metadata": {
        "id": "w_L353-dc3FL"
      }
    },
    {
      "cell_type": "code",
      "source": [
        "df1.describe()"
      ],
      "metadata": {
        "id": "hj3T57WFd658"
      },
      "execution_count": null,
      "outputs": []
    },
    {
      "cell_type": "code",
      "source": [
        "filas, columnas = df1.shape\n",
        "print(f\"El DataFrame tiene {filas} filas y {columnas} columnas.\")"
      ],
      "metadata": {
        "id": "U7lnMo8ed7-N"
      },
      "execution_count": null,
      "outputs": []
    },
    {
      "cell_type": "markdown",
      "source": [
        "## 2.1 Observo nulos"
      ],
      "metadata": {
        "id": "Rc2omm-tf9he"
      }
    },
    {
      "cell_type": "code",
      "source": [
        "print(df1.isnull().sum())"
      ],
      "metadata": {
        "id": "Sc4YUb21d9YE"
      },
      "execution_count": null,
      "outputs": []
    },
    {
      "cell_type": "markdown",
      "source": [
        "***Al haber pocos nulos en la columna \"precie\", opto por eliminar las filas donde no hayan valores. A su vez, los nulos de \"region_1\" los reemplazo por \"unknown\"***"
      ],
      "metadata": {
        "id": "aSzEQ-vpgGXk"
      }
    },
    {
      "cell_type": "code",
      "source": [
        "df1['region_1'] = df1['region_1'].fillna('unknown')\n",
        "df1_nuevo = df1.dropna(subset=[\"price\"])"
      ],
      "metadata": {
        "id": "rXs4QMCylxI1"
      },
      "execution_count": null,
      "outputs": []
    },
    {
      "cell_type": "markdown",
      "source": [
        "***Veo descripción de variables numericas del df2***"
      ],
      "metadata": {
        "id": "lgYKSU69mFd9"
      }
    },
    {
      "cell_type": "code",
      "source": [
        "df2.describe()"
      ],
      "metadata": {
        "id": "2gjX0Q7MeAs2"
      },
      "execution_count": null,
      "outputs": []
    },
    {
      "cell_type": "code",
      "source": [
        "filas, columnas = df1.shape\n",
        "print(f\"El DataFrame tiene {filas} filas y {columnas} columnas.\")"
      ],
      "metadata": {
        "id": "02UtOt4geERV"
      },
      "execution_count": null,
      "outputs": []
    },
    {
      "cell_type": "markdown",
      "source": [
        "***Elimino aquellas columnas que no creo que sean relevantes para el analisis.***"
      ],
      "metadata": {
        "id": "TzsllrWCmIJ0"
      }
    },
    {
      "cell_type": "code",
      "source": [
        "df2 = df2.drop(columns=[\"region_2\", \"Unnamed: 0\"])\n",
        "df1 = df1.drop(columns=[\"region_2\", \"taster_twitter_handle\", \"Unnamed: 0\"])"
      ],
      "metadata": {
        "id": "5e9JG4BD-yt0"
      },
      "execution_count": null,
      "outputs": []
    },
    {
      "cell_type": "markdown",
      "source": [
        "***2.2 Observo nulos***"
      ],
      "metadata": {
        "id": "ssR4jouNg4p_"
      }
    },
    {
      "cell_type": "code",
      "source": [
        "print(df2.isnull().sum())"
      ],
      "metadata": {
        "id": "IPzbKI8deIAE"
      },
      "execution_count": null,
      "outputs": []
    },
    {
      "cell_type": "markdown",
      "source": [
        "***Hago lo mismo que hice con la columna \"region_1\" en el DataFrame 1***"
      ],
      "metadata": {
        "id": "FKhhrX0omaYn"
      }
    },
    {
      "cell_type": "code",
      "source": [
        "df2['region_1'] = df2['region_1'].fillna('Unknow')"
      ],
      "metadata": {
        "id": "RLmE1rrIV-Xn"
      },
      "execution_count": null,
      "outputs": []
    },
    {
      "cell_type": "markdown",
      "source": [
        "***Elimino filas donde \"columna1\" tiene***\n"
      ],
      "metadata": {
        "id": "3YJsIXRxmd2J"
      }
    },
    {
      "cell_type": "code",
      "source": [
        "df2_nuevo = df2.dropna(subset=[\"price\"])"
      ],
      "metadata": {
        "id": "rgNsTeA3eI37"
      },
      "execution_count": null,
      "outputs": []
    },
    {
      "cell_type": "markdown",
      "source": [
        "##***Concateno ambos df para que me quede uno solo***"
      ],
      "metadata": {
        "id": "TTH_RF0Qmnwg"
      }
    },
    {
      "cell_type": "code",
      "source": [
        "df_final = pd.concat([df1_nuevo, df2_nuevo], ignore_index=True)"
      ],
      "metadata": {
        "id": "nbl6mfYkeJ-d"
      },
      "execution_count": null,
      "outputs": []
    },
    {
      "cell_type": "code",
      "source": [
        "df_final.head()"
      ],
      "metadata": {
        "id": "t-3_5H2veMx5"
      },
      "execution_count": null,
      "outputs": []
    },
    {
      "cell_type": "code",
      "source": [
        "filas, columnas = df_final.shape\n",
        "print(f\"El DataFrame tiene {filas} filas y {columnas} columnas.\")"
      ],
      "metadata": {
        "id": "j2nnYf5TeNsm"
      },
      "execution_count": null,
      "outputs": []
    },
    {
      "cell_type": "markdown",
      "source": [
        "## Observo los nulos totales que quedaron con la concatenación"
      ],
      "metadata": {
        "id": "xfI_el43mxt4"
      }
    },
    {
      "cell_type": "code",
      "source": [
        "print(df_final.isnull().sum())"
      ],
      "metadata": {
        "id": "9I5Vyp98ePpn"
      },
      "execution_count": null,
      "outputs": []
    },
    {
      "cell_type": "markdown",
      "source": [
        "## Eliminar filas con valores nulos en columnas categóricas\n"
      ],
      "metadata": {
        "id": "Xxc8nD8Ymv-6"
      }
    },
    {
      "cell_type": "markdown",
      "source": [
        "***En este caso, elimino las filas que tienen valores nulos en las columnas 'variety' y 'province' por ser una cantidad pequeña.***"
      ],
      "metadata": {
        "id": "Md-bQVTlm4of"
      }
    },
    {
      "cell_type": "code",
      "source": [
        "df_final_limpio = df_final.dropna(subset=['variety', 'province'])\n"
      ],
      "metadata": {
        "id": "K15UUq1reQq8"
      },
      "execution_count": null,
      "outputs": []
    },
    {
      "cell_type": "code",
      "source": [
        "print(df_final_limpio.isnull().sum())"
      ],
      "metadata": {
        "id": "alPXXU27WlMQ"
      },
      "execution_count": null,
      "outputs": []
    },
    {
      "cell_type": "markdown",
      "source": [
        "***Aquellas columnas categoricas que tienen nulos los completo con 'Unknow'***"
      ],
      "metadata": {
        "id": "zbP7HZX0m7M5"
      }
    },
    {
      "cell_type": "code",
      "source": [
        "df1['designation'] = df1['designation'].fillna('Unknow')\n",
        "df1['region_1'] = df1['region_1'].fillna('Unknow')\n",
        "df1['taster_name'] = df1['taster_name'].fillna('Unknow')\n",
        "df1['title'] = df1['title'].fillna('Unknow')"
      ],
      "metadata": {
        "id": "YirwTqvDeR_B"
      },
      "execution_count": null,
      "outputs": []
    },
    {
      "cell_type": "markdown",
      "source": [
        "#3. Graficos de la data"
      ],
      "metadata": {
        "id": "U830jfznnE1_"
      }
    },
    {
      "cell_type": "code",
      "source": [
        "columna_a_graficar = \"points\"\n",
        "columna = df_final_limpio[columna_a_graficar]\n",
        "\n",
        "plt.figure(figsize=(6, 4))\n",
        "sns.histplot(data=columna, bins=30, kde=True)\n",
        "plt.title(f\"Histograma de puntaje\")\n",
        "plt.show()\n"
      ],
      "metadata": {
        "id": "hr-OHncceU3R"
      },
      "execution_count": null,
      "outputs": []
    },
    {
      "cell_type": "markdown",
      "source": [
        " *⬆️ Podemos observar que la puntuación mas baja es de 80.0 con una alza notoria en los 87.0 puntos*\n",
        "\n",
        "\n",
        "\n",
        "\n",
        "\n"
      ],
      "metadata": {
        "id": "Qql7voq7nKvF"
      }
    },
    {
      "cell_type": "code",
      "source": [
        "conteo_puntos = df_final_limpio[\"points\"]\n",
        "\n",
        "plt.figure(figsize=(10,6))\n",
        "conteo_puntos.value_counts().plot(kind='bar', color='skyblue', edgecolor='black')\n",
        "plt.xlabel(\"Puntaje\")\n",
        "plt.ylabel(\"Frecuencia\")\n",
        "plt.title(\"Frecuencia de puntos asignados a los vinos\")\n",
        "plt.xticks(rotation=0)\n",
        "plt.tight_layout()\n",
        "plt.show()\n",
        "\n",
        "sns.boxplot(x=conteo_puntos.values)\n",
        "plt.title(f\"Grafico de bigotes para ver puntajes outliers\")\n",
        "plt.show()"
      ],
      "metadata": {
        "id": "ljfjx14kpOUL"
      },
      "execution_count": null,
      "outputs": []
    },
    {
      "cell_type": "markdown",
      "source": [
        " ⬆️ *Observamos cual puntuación es la que más se repite en estos df y que números pueden integrar valores conocidos como ouliers*\n",
        "\n",
        "\n",
        "\n",
        "\n",
        "\n"
      ],
      "metadata": {
        "id": "uBvy8su6pQEk"
      }
    },
    {
      "cell_type": "code",
      "source": [
        "plt.figure(figsize=(8, 5))\n",
        "sns.countplot(data=df_final_limpio, x=\"taster_name\", order=df_final_limpio[\"taster_name\"].value_counts().index)\n",
        "plt.xticks(rotation=80)  # Rotar etiquetas si hay muchos nombres\n",
        "plt.title(\"Frecuencia de cada catador\")\n",
        "plt.xlabel(\"Catador\")\n",
        "plt.ylabel(\"Frecuencia\")\n",
        "plt.show()\n"
      ],
      "metadata": {
        "id": "L_7EWTawefhg"
      },
      "execution_count": null,
      "outputs": []
    },
    {
      "cell_type": "markdown",
      "source": [
        " *⬆️ El catador que mas opiniones realizó fue Roger Voss*"
      ],
      "metadata": {
        "id": "qvam75ZBouyQ"
      }
    },
    {
      "cell_type": "markdown",
      "source": [
        "##A continuación, grafico los 10 valores mas frecuentes en los **paises**, **viaredad de uva** y **viñedo**"
      ],
      "metadata": {
        "id": "rbXim4KCpJlm"
      }
    },
    {
      "cell_type": "code",
      "source": [
        "conteo = df_final_limpio[\"country\"].value_counts().head(8)\n",
        "\n",
        "plt.figure(figsize=(9, 9))\n",
        "conteo.plot(kind=\"pie\", autopct=\"%1.1f%%\", colors=plt.cm.Paired.colors, startangle=90)\n",
        "plt.title(\"Distribución de los 10 paises mas frecuentes\")\n",
        "plt.ylabel(\"\")\n",
        "plt.show()\n"
      ],
      "metadata": {
        "id": "zBjkWQLFeqdg"
      },
      "execution_count": null,
      "outputs": []
    },
    {
      "cell_type": "code",
      "source": [
        "conteo = df_final_limpio[\"variety\"].value_counts().head(10)\n",
        "\n",
        "plt.figure(figsize=(7, 7))\n",
        "conteo.plot(kind=\"pie\", autopct=\"%1.1f%%\", colors=plt.cm.Paired.colors, startangle=90)\n",
        "plt.title(\"Distribución de las 10 uvas más frecuentes\")\n",
        "plt.ylabel(\"\")\n",
        "plt.show()\n"
      ],
      "metadata": {
        "id": "B9aQMCSHernN"
      },
      "execution_count": null,
      "outputs": []
    },
    {
      "cell_type": "code",
      "source": [
        "conteo = df_final_limpio[\"winery\"].value_counts().head(10)\n",
        "\n",
        "plt.figure(figsize=(7, 7))\n",
        "conteo.plot(kind=\"pie\", autopct=\"%1.1f%%\", colors=plt.cm.Paired.colors, startangle=90)\n",
        "plt.title(\"Distribución de los 10 viñedos más frecuentes\")\n",
        "plt.ylabel(\"\")\n",
        "plt.show()"
      ],
      "metadata": {
        "id": "A_91wIr8eteR"
      },
      "execution_count": null,
      "outputs": []
    },
    {
      "cell_type": "markdown",
      "source": [
        "# 2. Análisis de Precios y Factores de Calidad\n"
      ],
      "metadata": {
        "id": "r4JnqtpEeQeg"
      }
    },
    {
      "cell_type": "code",
      "source": [
        "conteo_precio = df_final_limpio[\"price\"]\n",
        "\n",
        "sns.boxplot(x=conteo_precio.values)\n",
        "plt.title(f\"Boxplot para variable precios de los vinos\")\n",
        "plt.show()\n"
      ],
      "metadata": {
        "id": "rU-z3ObHp6f2"
      },
      "execution_count": null,
      "outputs": []
    },
    {
      "cell_type": "markdown",
      "source": [
        "⬆️ ***Genero un grafico de bigotes para ver los precios más repetidos de los vinos y sus valores ouliers***"
      ],
      "metadata": {
        "id": "3UJOOnmdsZZX"
      }
    },
    {
      "cell_type": "markdown",
      "source": [
        "⬇️ ***Busco valores maximos y minimos de la columna \"price\"***"
      ],
      "metadata": {
        "id": "yA1y3HhRsoAu"
      }
    },
    {
      "cell_type": "code",
      "source": [
        "max_price = df_final_limpio['price'].max()\n",
        "min_price = df_final_limpio['price'].min()\n",
        "\n",
        "print(f\"Valor máximo de 'price': {max_price}\")\n",
        "print(f\"Valor mínimo de 'price': {min_price}\")\n"
      ],
      "metadata": {
        "id": "cUkuRsVlewUZ"
      },
      "execution_count": null,
      "outputs": []
    },
    {
      "cell_type": "markdown",
      "source": [
        "###2.1 A partir de generar recortes y etiquetas, genero un df en el que segmenta la columna \"price\" en rangos"
      ],
      "metadata": {
        "id": "9r7B2QwDtTVh"
      }
    },
    {
      "cell_type": "code",
      "source": [
        "bins = [0, 50, 100, 200, 500, 1000, 2000, float('inf')]\n",
        "labels = ['0-50', '51-100', '101-200', '201-500', '501-1000', '1001-2000', '2000+']\n",
        "\n",
        "df_final_limpio['rango_de_precios'] = pd.cut(df_final_limpio['price'], bins=bins, labels=labels)\n",
        "\n",
        "df_final_limpio[['price', 'rango_de_precios']].head()\n"
      ],
      "metadata": {
        "id": "zF4C77nne1Ba"
      },
      "execution_count": null,
      "outputs": []
    },
    {
      "cell_type": "markdown",
      "source": [
        "###2.2 A partir de estos rangos ya generados, le asigno una etiqueta correspondiente"
      ],
      "metadata": {
        "id": "bLh785ahttcy"
      }
    },
    {
      "cell_type": "code",
      "source": [
        "df_final_limpio['rango_de_precios'] = pd.qcut(df_final_limpio['price'], q=4, labels=['Bajo', 'Medio-Bajo', 'Medio-Alto', 'Alto'])\n",
        "\n",
        "df_final_limpio[['price', 'rango_de_precios']].head()\n"
      ],
      "metadata": {
        "id": "aGCipNJse2v2"
      },
      "execution_count": null,
      "outputs": []
    },
    {
      "cell_type": "markdown",
      "source": [
        "###Observo cuántos productos están en cada rango de precio\n"
      ],
      "metadata": {
        "id": "6NniciKJt2PF"
      }
    },
    {
      "cell_type": "code",
      "source": [
        "rango_de_precios_organizados = df_final_limpio['rango_de_precios'].value_counts()\n",
        "rango_de_precios_organizados.head()\n",
        "\n"
      ],
      "metadata": {
        "id": "D_r8QHPEe30A"
      },
      "execution_count": null,
      "outputs": []
    },
    {
      "cell_type": "markdown",
      "source": [
        "***⬇️ Genero un grafico de barras para poder graficar los rangos creados y cantidad de vinos que los componen***"
      ],
      "metadata": {
        "id": "yQWgujpmuC6d"
      }
    },
    {
      "cell_type": "code",
      "source": [
        "plt.figure(figsize=(8,6))\n",
        "sns.barplot(x=rango_de_precios_organizados.index, y=rango_de_precios_organizados.values, palette='viridis')\n",
        "\n",
        "plt.title('Distribución de vinos por rango de recio')\n",
        "plt.xlabel('Rango de precios')\n",
        "plt.ylabel('Cantidad de vinos')\n",
        "plt.xticks(rotation=45)\n",
        "plt.show()\n"
      ],
      "metadata": {
        "id": "E27uUrB8e5CI"
      },
      "execution_count": null,
      "outputs": []
    },
    {
      "cell_type": "markdown",
      "source": [
        "***¿Existe relación entre precios y puntaje?***"
      ],
      "metadata": {
        "id": "xjmwkdI3uXBs"
      }
    },
    {
      "cell_type": "code",
      "source": [
        "df_relación = df_final_limpio.select_dtypes(include=\"number\")\n",
        "\n",
        "corr_matrix = df_relación.corr()\n",
        "\n",
        "plt.figure(figsize=(10, 6))\n",
        "sns.heatmap(corr_matrix, annot=True, cmap=\"coolwarm\", fmt=\".2f\", linewidths=0.5)\n",
        "\n",
        "plt.title(\"Mapa de calor de correlaciones\")\n",
        "plt.show()\n"
      ],
      "metadata": {
        "id": "zksM1o7qhWdD"
      },
      "execution_count": null,
      "outputs": []
    },
    {
      "cell_type": "markdown",
      "source": [
        "##2.3 Aplición técnicas de regresión para predecir el precio de un vino según sus características."
      ],
      "metadata": {
        "id": "cX5Vjru0u702"
      }
    },
    {
      "cell_type": "markdown",
      "source": [
        "🧮 El modelo que se empleará es de treeforest debido a que la relación entre variables es no lineal"
      ],
      "metadata": {
        "id": "3ApjFTSVvKpz"
      }
    },
    {
      "cell_type": "code",
      "source": [
        "X = df_final_limpio[[\"points\"]]\n",
        "y = df_final_limpio[\"price\"]\n",
        "\n",
        "X_train, X_test, y_train, y_test = train_test_split(X, y, test_size=0.1, random_state=42)\n",
        "\n",
        "scaler = StandardScaler()\n",
        "X_train_scaled = scaler.fit_transform(X_train)\n",
        "X_test_scaled = scaler.transform(X_test)\n",
        "\n",
        "rf_model = RandomForestRegressor(n_estimators=100, random_state=42)\n",
        "rf_model.fit(X_train_scaled, y_train)\n",
        "\n",
        "y_pred_rf = rf_model.predict(X_test_scaled)\n",
        "\n",
        "mae_rf = mean_absolute_error(y_test, y_pred_rf)\n",
        "mse_rf = mean_squared_error(y_test, y_pred_rf)\n",
        "rmse_rf = np.sqrt(mse_rf)\n",
        "r2_rf = r2_score(y_test, y_pred_rf)\n",
        "\n",
        "print(f\"MAE: {mae_rf:.2f}\")\n",
        "print(f\"MSE: {mse_rf:.2f}\")\n",
        "print(f\"RMSE: {rmse_rf:.2f}\")\n",
        "print(f\"R² Score: {r2_rf:.2f}\")\n",
        "\n",
        "plt.figure(figsize=(7,5))\n",
        "sns.scatterplot(x=X_test[\"points\"], y=y_test, label=\"Real\", color=\"blue\")\n",
        "sns.scatterplot(x=X_test[\"points\"], y=y_pred_rf, label=\"Predicción\", color=\"red\")\n",
        "plt.xlabel(\"Points\")\n",
        "plt.ylabel(\"Price\")\n",
        "plt.title(\"Random Forest: Precio vs Puntos (Escalado)\")\n",
        "plt.legend()\n",
        "plt.show()\n"
      ],
      "metadata": {
        "id": "MA7kjNnQe7DK"
      },
      "execution_count": null,
      "outputs": []
    },
    {
      "cell_type": "markdown",
      "source": [
        "🤔 Observo que el modelo tiene un mal rendimiento. Se equivoca en 15 unidades, penaliza los errores grandes y tiene errores significativos. A su vez, solo explica el 31% de los datos"
      ],
      "metadata": {
        "id": "U-LRXh1oxBjq"
      }
    },
    {
      "cell_type": "markdown",
      "source": [
        "💡 Opto por la idea de eliminar los valores outliers de la columna \"price\", mediante el IRQ, y generar el modelo de nuevo"
      ],
      "metadata": {
        "id": "9mdlHOmcxzqq"
      }
    },
    {
      "cell_type": "code",
      "source": [
        "Q1_price = df_final_limpio[\"price\"].quantile(0.25)\n",
        "Q3_price = df_final_limpio[\"price\"].quantile(0.75)\n",
        "\n",
        "IQR_price = Q3_price - Q1_price\n",
        "\n",
        "lower_bound_price = Q1_price - 1.5 * IQR_price\n",
        "upper_bound_price = Q3_price + 1.5 * IQR_price\n",
        "\n",
        "df_no_outliers_price = df_final_limpio[(df_final_limpio[\"price\"] >= lower_bound_price) & (df_final_limpio[\"price\"] <= upper_bound_price)]\n",
        "\n",
        "print(f\"Total de outliers eliminados en 'price': {len(df_final_limpio) - len(df_no_outliers_price)}\")\n"
      ],
      "metadata": {
        "id": "SizGLJCle8Lb"
      },
      "execution_count": null,
      "outputs": []
    },
    {
      "cell_type": "code",
      "source": [
        "X_no_outliers = df_no_outliers[[\"points\"]]\n",
        "y_no_outliers = df_no_outliers[\"price\"]\n",
        "X_train_no_outliers, X_test_no_outliers, y_train_no_outliers, y_test_no_outliers = train_test_split( X_no_outliers, y_no_outliers, test_size=0.1, random_state=42)\n",
        "scaler_no_outliers = StandardScaler()\n",
        "X_train_scaled_no_outliers = scaler_no_outliers.fit_transform(X_train_no_outliers)\n",
        "X_test_scaled_no_outliers = scaler_no_outliers.transform(X_test_no_outliers)\n",
        "rf_model_no_outliers = RandomForestRegressor(n_estimators=100, random_state=42)\n",
        "rf_model_no_outliers.fit(X_train_scaled_no_outliers, y_train_no_outliers)\n",
        "\n",
        "y_pred_rf_no_outliers = rf_model_no_outliers.predict(X_test_scaled_no_outliers)\n",
        "\n",
        "mae_rf_no_outliers = mean_absolute_error(y_test_no_outliers, y_pred_rf_no_outliers)\n",
        "mse_rf_no_outliers = mean_squared_error(y_test_no_outliers, y_pred_rf_no_outliers)\n",
        "rmse_rf_no_outliers = np.sqrt(mse_rf_no_outliers)\n",
        "r2_rf_no_outliers = r2_score(y_test_no_outliers, y_pred_rf_no_outliers)\n",
        "\n",
        "print(f\"MAE (sin outliers): {mae_rf_no_outliers:.2f}\")\n",
        "print(f\"MSE (sin outliers): {mse_rf_no_outliers:.2f}\")\n",
        "print(f\"RMSE (sin outliers): {rmse_rf_no_outliers:.2f}\")\n",
        "print(f\"R² Score (sin outliers): {r2_rf_no_outliers:.2f}\")\n",
        "\n",
        "plt.figure(figsize=(7,5))\n",
        "sns.scatterplot(x=X_test_no_outliers[\"points\"], y=y_test_no_outliers, label=\"Real\", color=\"blue\")\n",
        "sns.scatterplot(x=X_test_no_outliers[\"points\"], y=y_pred_rf_no_outliers, label=\"Predicción\", color=\"red\")\n",
        "plt.xlabel(\"Points\")\n",
        "plt.ylabel(\"Price\")\n",
        "plt.title(\"Random Forest: Precio vs Puntos (Sin Outliers)\")\n",
        "plt.legend()\n",
        "plt.show()\n"
      ],
      "metadata": {
        "id": "DT8qu90Ge-jh"
      },
      "execution_count": null,
      "outputs": []
    },
    {
      "cell_type": "markdown",
      "source": [
        "😊 El modelo mejoró el rendimiento. Se equivoca en 10.19 unidades, reduce significativamente los errores y acierta de mejor manera las predicciones."
      ],
      "metadata": {
        "id": "IGnGvFjP29Sj"
      }
    },
    {
      "cell_type": "markdown",
      "source": [],
      "metadata": {
        "id": "VXv2opPz2o5Z"
      }
    },
    {
      "cell_type": "markdown",
      "source": [
        "# 3. Análisis de Sentimiento en Reseñas (NLP)"
      ],
      "metadata": {
        "id": "XRC6pBhmeBwe"
      }
    },
    {
      "cell_type": "code",
      "source": [
        "nlp = spacy.load(\"en_core_web_sm\", disable=[\"parser\", \"ner\"])\n",
        "\n",
        "df_sample = df1.sample(5000, random_state=None).reset_index(drop=True)\n",
        "\n",
        "texts = df_sample[\"description\"].dropna().astype(str).tolist()\n",
        "\n",
        "docs = list(nlp.pipe(texts, batch_size=50, n_process=4))\n",
        "\n",
        "def limpiar_texto(doc):\n",
        "    return \" \".join([token.lemma_ for token in doc if not token.is_stop and token.is_alpha])\n",
        "\n",
        "df_sample[\"description_clean\"] = [limpiar_texto(doc) for doc in docs]\n",
        "\n",
        "print(df_sample[[\"description\", \"description_clean\"]].sample(5))\n"
      ],
      "metadata": {
        "id": "O0zW4PVBsZla"
      },
      "execution_count": null,
      "outputs": []
    },
    {
      "cell_type": "code",
      "source": [
        "nlp = spacy.load(\"en_core_web_sm\", disable=[\"parser\", \"ner\"])\n",
        "\n",
        "df_sample = df1.sample(5000, random_state=42)\n",
        "\n",
        "texts = df_sample[\"description\"].astype(str).tolist()\n",
        "\n",
        "docs = list(nlp.pipe(texts, batch_size=50, n_process=4))\n",
        "\n",
        "def limpiar_texto(doc):\n",
        "    return \" \".join([token.lemma_ for token in doc if not token.is_stop and token.is_alpha])\n",
        "\n",
        "df_sample[\"description_clean\"] = [limpiar_texto(doc) for doc in docs]\n",
        "\n",
        "\n",
        "df_bien = df_sample[df_sample[\"points\"] >= 90]\n",
        "df_mal = df_sample[df_sample[\"points\"] < 83]\n",
        "\n",
        "def contar_palabras(textos):\n",
        "    palabras = \" \".join(textos).split()\n",
        "    return Counter(palabras).most_common(10)\n",
        "top_bien = contar_palabras(df_bien[\"description_clean\"])\n",
        "top_mal = contar_palabras(df_mal[\"description_clean\"])\n",
        "\n"
      ],
      "metadata": {
        "id": "KHa77P7Nz3ny"
      },
      "execution_count": null,
      "outputs": []
    },
    {
      "cell_type": "code",
      "source": [
        "\n",
        "df_bien = df_sample[df_sample[\"points\"] >= 90]\n",
        "df_mal = df_sample[df_sample[\"points\"] < 83]\n",
        "\n",
        "def contar_palabras(textos):\n",
        "    palabras = \" \".join(textos).split()\n",
        "    return Counter(palabras).most_common(10)\n",
        "\n",
        "top_bien = contar_palabras(df_bien[\"description_clean\"])\n",
        "top_mal = contar_palabras(df_mal[\"description_clean\"])\n",
        "\n",
        "print(\"\\n👍 Palabras más frecuentes en vinos bien puntuados (90+):\")\n",
        "print(top_bien)\n",
        "\n",
        "print(\"\\n👎 Palabras más frecuentes en vinos mal puntuados (<83):\")\n",
        "print(top_mal)\n",
        "def generar_nube(textos, titulo):\n",
        "    wordcloud = WordCloud(width=800, height=400, background_color=\"white\").generate(\" \".join(textos))\n",
        "\n",
        "    plt.figure(figsize=(10, 5))\n",
        "    plt.imshow(wordcloud, interpolation=\"bilinear\")\n",
        "    plt.axis(\"off\")\n",
        "    plt.title(titulo, fontsize=14)\n",
        "    plt.show()\n",
        "\n",
        "generar_nube(df_bien[\"description_clean\"], \"Nube de Palabras - Vinos bien puntuados\")\n",
        "\n",
        "generar_nube(df_mal[\"description_clean\"], \" Nube de Palabras - Vinos mal puntuados\")\n"
      ],
      "metadata": {
        "id": "2XKKgmGBJj2w"
      },
      "execution_count": null,
      "outputs": []
    },
    {
      "cell_type": "markdown",
      "source": [
        "## 3.1 Analisis de sentimientos de las reseñas"
      ],
      "metadata": {
        "id": "7yufwMvRCv7A"
      }
    },
    {
      "cell_type": "code",
      "source": [
        "\n",
        "\n",
        "df_sample[\"sentiment\"] = np.where(df_sample[\"points\"] >= 90, 1, 0)\n",
        "\n",
        "vectorizer = TfidfVectorizer(max_features=5000)\n",
        "X = vectorizer.fit_transform(df_sample[\"description_clean\"])\n",
        "\n",
        "y = df_sample[\"sentiment\"]\n",
        "X_train, X_test, y_train, y_test = train_test_split(X, y, test_size=0.2, random_state=42)\n",
        "\n",
        "clf = RandomForestClassifier(n_estimators=100, random_state=42)\n",
        "clf.fit(X_train, y_train)\n",
        "\n",
        "y_pred = clf.predict(X_test)\n",
        "accuracy = accuracy_score(y_test, y_pred)\n",
        "\n",
        "print(f\"📊 Accuracy del modelo: {accuracy:.4f}\")\n",
        "print(\"\\n🔍 Reporte de clasificación:\")\n",
        "print(classification_report(y_test, y_pred))\n"
      ],
      "metadata": {
        "id": "9PPkZ2QhJwVT"
      },
      "execution_count": null,
      "outputs": []
    },
    {
      "cell_type": "markdown",
      "source": [
        "# 4. Sistema de Recomendación de Vinos\n"
      ],
      "metadata": {
        "id": "7SvGV2VYekuc"
      }
    },
    {
      "cell_type": "code",
      "source": [
        "le = LabelEncoder()\n",
        "df1['variety_encoded'] = le.fit_transform(df1['variety'])\n",
        "df1['country_encoded'] = le.fit_transform(df1['country'])\n",
        "df1['province_encoded'] = le.fit_transform(df1['province'])\n",
        "\n"
      ],
      "metadata": {
        "id": "TogS1qxNViuk"
      },
      "execution_count": null,
      "outputs": []
    },
    {
      "cell_type": "markdown",
      "source": [
        "## 4.1 Sistema de recomendación por similitud de caracteristicas"
      ],
      "metadata": {
        "id": "UI9AlB1bxGqu"
      }
    },
    {
      "cell_type": "code",
      "source": [
        "content_features = ['variety', 'country', 'province', 'region_1']\n",
        "\n",
        "df1['content'] = df1[content_features].fillna('').agg(' '.join, axis=1)\n",
        "\n",
        "vectorizer = TfidfVectorizer(stop_words='english')\n",
        "X_content = vectorizer.fit_transform(df1['content'])\n",
        "\n",
        "knn = NearestNeighbors(metric='cosine', algorithm='brute', n_neighbors=10, n_jobs=-1)\n",
        "\n",
        "knn.fit(X_content)\n",
        "\n",
        "def recomendar_vinos_knn(vino_index, k=5):\n",
        "    distances, indices = knn.kneighbors(X_content[vino_index], n_neighbors=k+1)\n",
        "    return indices[0][1:], distances[0][1:]\n",
        "\n",
        "vino_index = int(input(\"Ingrese el índice del vino que desea analizar: \"))\n",
        "\n",
        "indices, distancias = recomendar_vinos_knn(vino_index, 5)\n",
        "\n",
        "print(f\"\\n🔹 Recomendaciones para el vino {vino_index}:\")\n",
        "for i, (indice, distancia) in enumerate(zip(indices, distancias), 1):\n",
        "    print(f\"{i}. Vino {indice} (Similitud: {1 - distancia:.4f})\")\n"
      ],
      "metadata": {
        "id": "0FdRc5knakDS"
      },
      "execution_count": null,
      "outputs": []
    },
    {
      "cell_type": "markdown",
      "source": [
        "## 4.1 Sistema de recomendación por similitud de caracteristicas entre catador y uva"
      ],
      "metadata": {
        "id": "PWqiOpSXxXeM"
      }
    },
    {
      "cell_type": "code",
      "source": [
        "def recomendar_mixto(user, wine_title, k=5):\n",
        "    if user in df1[\"taster_name\"].unique():\n",
        "        rec_colab = recomendar_vino_svd(user, k)\n",
        "    else:\n",
        "        rec_colab = []\n",
        "\n",
        "    if wine_title in df1[\"title\"].unique():\n",
        "        rec_content = recomendar_vinos_knn(df1[df1[\"title\"] == wine_title].index[0], k)\n",
        "    else:\n",
        "        rec_content = []\n",
        "\n",
        "    recomendaciones = list(set(rec_colab + list(rec_content)))\n",
        "    return recomendaciones[:k]\n",
        "\n",
        "print(recomendar_mixto(\"Robert Parker\", \"Château Margaux\", 5))\n"
      ],
      "metadata": {
        "id": "rfWc8oXAab5o"
      },
      "execution_count": null,
      "outputs": []
    },
    {
      "cell_type": "code",
      "source": [
        "df1_ratings_unicos = df1.drop_duplicates(subset=[\"taster_name\", \"title\"])\n",
        "ratings_matrix = df1_ratings_unicos.pivot(index='taster_name', columns='title', values='points')\n",
        "\n",
        "user_similarity = cosine_similarity(ratings_matrix.fillna(0))\n",
        "user_similarity_df = pd.DataFrame(user_similarity, index=ratings_matrix.index, columns=ratings_matrix.index)\n",
        "user_similarity_df.head(40)"
      ],
      "metadata": {
        "id": "DQ-J--wlgXn8"
      },
      "execution_count": null,
      "outputs": []
    },
    {
      "cell_type": "markdown",
      "source": [
        "*En este caso, se puede cambiar nombres de catadores para buscar aquellos que, en caso de tener gusto similar al quien se nombra, el sistema recomendará vinos cuyos gustos sean similares* 😎"
      ],
      "metadata": {
        "id": "d68sK8Vjm5W0"
      }
    },
    {
      "cell_type": "code",
      "source": [
        "def recomendar_vinos(usuario, n_recomendaciones=5):\n",
        "    similar_users = user_similarity_df[usuario].sort_values(ascending=False)\n",
        "    similar_users = similar_users.iloc[1:]\n",
        "    recommended_wines = []\n",
        "    for user in similar_users.index:\n",
        "        user_ratings = ratings_matrix.loc[user]\n",
        "        unscored_wines = user_ratings[user_ratings.isna()].index\n",
        "        recommended_wines.extend(unscored_wines)\n",
        "    recommended_wines_count = pd.Series(recommended_wines).value_counts().head(n_recomendaciones)\n",
        "    return recommended_wines_count\n",
        "recomendaciones = recomendar_vinos(\"Virginie Boone\", 10)\n",
        "print(recomendaciones)\n"
      ],
      "metadata": {
        "id": "wU9wsm735PzT"
      },
      "execution_count": null,
      "outputs": []
    }
  ]
}